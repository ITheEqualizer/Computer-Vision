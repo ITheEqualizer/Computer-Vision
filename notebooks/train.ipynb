{
 "cells": [
  {
   "cell_type": "code",
   "execution_count": 11,
   "id": "84c5c971-c49e-4559-9f09-ba41519f9e5c",
   "metadata": {},
   "outputs": [],
   "source": [
    "import os\n",
    "import numpy as np\n",
    "import matplotlib.pyplot as plt\n",
    "from sklearn.metrics import confusion_matrix, classification_report\n",
    "import tensorflow as tf\n",
    "from tensorflow import keras\n",
    "from tensorflow.keras import layers\n",
    "from tensorflow.keras.callbacks import EarlyStopping, ReduceLROnPlateau, ModelCheckpoint"
   ]
  },
  {
   "cell_type": "code",
   "execution_count": 12,
   "id": "9c1a107d-0c77-4d54-b2ea-7e3f4b737fac",
   "metadata": {},
   "outputs": [
    {
     "name": "stdout",
     "output_type": "stream",
     "text": [
      "2.20.0\n"
     ]
    }
   ],
   "source": [
    "SEED = 42 # We prevent the code to be generated randomly in order to have the same result each time we run the code.\n",
    "np.random.seed(SEED) #This used for Numpy.\n",
    "tf.random.set_seed(SEED) # This is used for Tensorflow.\n",
    "\n",
    "print(tf.__version__) # Making sure everything is loaded."
   ]
  },
  {
   "cell_type": "code",
   "execution_count": 23,
   "id": "5d0aab7e-c0a0-4b0d-bc3d-315caba1142b",
   "metadata": {},
   "outputs": [],
   "source": [
    "BATCH_SIZE = 64 # We keep this at 64 in order to have a balance between CPU and GPU, note that 64 is still considered to be large.\n",
    "EPOCHS = 30 # Number of times we try to re-train the model over the train data we have.\n",
    "LR = 1e-3 # Usual learning rate start point for ADAM.\n",
    "\n",
    "MODEL_DIR = \"saved_model\" # This is a folder which we will save the trained model inside.\n",
    "BEST_WEIGHTS_PATH = os.path.join(MODEL_DIR, 'best_weights.weights.h5') # We save best weights in order to use them again.\n",
    "os.makedirs(MODEL_DIR, exist_ok=True) # We will try to create the folder and if it existed already, we wont have errors."
   ]
  },
  {
   "cell_type": "code",
   "execution_count": 14,
   "id": "13e2a6aa-3e7a-4608-8c0f-32a57994470f",
   "metadata": {},
   "outputs": [
    {
     "name": "stdout",
     "output_type": "stream",
     "text": [
      "Downloading data from https://www.cs.toronto.edu/~kriz/cifar-10-python.tar.gz\n",
      "\u001b[1m170498071/170498071\u001b[0m \u001b[32m━━━━━━━━━━━━━━━━━━━━\u001b[0m\u001b[37m\u001b[0m \u001b[1m8s\u001b[0m 0us/step\n",
      "(50000, 32, 32, 3) (50000,) (10000, 32, 32, 3) (10000,)\n"
     ]
    }
   ],
   "source": [
    "(x_train , y_train), (x_test, y_test) = keras.datasets.cifar10.load_data() # We load the CIFAR-10 dataset from Keras.\n",
    "\n",
    "num_classes = 10 # We have 10 items in the dataset hence why we enter 10 as we will have 10 classes and outcomes.\n",
    "input_shape = (32, 32, 3) # This is the image size (32x32), with 3 channels: height - width - color (3 channels since it's not B&W).\n",
    "\n",
    "x_train = x_train.astype('float32') / 255.0 # We noremalize the data and make sure it remains float by adding .0 since we don't want rounded numbers.\n",
    "x_test = x_test.astype('float32') / 255.0\n",
    "\n",
    "y_train = y_train.reshape(-1) # We make the data from 2D to 1D, in other words we flatten them from [1] which has 2 dimentions, after this, it will be 1 instead of [1].\n",
    "y_test = y_test.reshape(-1)\n",
    "\n",
    "print(x_train.shape, y_train.shape, x_test.shape, y_test.shape) # We check the shapes to be sure everything is fine."
   ]
  },
  {
   "cell_type": "code",
   "execution_count": 16,
   "id": "46874248-566c-46fa-8129-5097a84ee85b",
   "metadata": {},
   "outputs": [
    {
     "data": {
      "text/html": [
       "<pre style=\"white-space:pre;overflow-x:auto;line-height:normal;font-family:Menlo,'DejaVu Sans Mono',consolas,'Courier New',monospace\"><span style=\"font-weight: bold\">Model: \"augment\"</span>\n",
       "</pre>\n"
      ],
      "text/plain": [
       "\u001b[1mModel: \"augment\"\u001b[0m\n"
      ]
     },
     "metadata": {},
     "output_type": "display_data"
    },
    {
     "data": {
      "text/html": [
       "<pre style=\"white-space:pre;overflow-x:auto;line-height:normal;font-family:Menlo,'DejaVu Sans Mono',consolas,'Courier New',monospace\">┏━━━━━━━━━━━━━━━━━━━━━━━━━━━━━━━━━┳━━━━━━━━━━━━━━━━━━━━━━━━┳━━━━━━━━━━━━━━━┓\n",
       "┃<span style=\"font-weight: bold\"> Layer (type)                    </span>┃<span style=\"font-weight: bold\"> Output Shape           </span>┃<span style=\"font-weight: bold\">       Param # </span>┃\n",
       "┡━━━━━━━━━━━━━━━━━━━━━━━━━━━━━━━━━╇━━━━━━━━━━━━━━━━━━━━━━━━╇━━━━━━━━━━━━━━━┩\n",
       "│ random_flip (<span style=\"color: #0087ff; text-decoration-color: #0087ff\">RandomFlip</span>)        │ ?                      │   <span style=\"color: #00af00; text-decoration-color: #00af00\">0</span> (unbuilt) │\n",
       "├─────────────────────────────────┼────────────────────────┼───────────────┤\n",
       "│ random_rotation                 │ ?                      │   <span style=\"color: #00af00; text-decoration-color: #00af00\">0</span> (unbuilt) │\n",
       "│ (<span style=\"color: #0087ff; text-decoration-color: #0087ff\">RandomRotation</span>)                │                        │               │\n",
       "├─────────────────────────────────┼────────────────────────┼───────────────┤\n",
       "│ random_zoom (<span style=\"color: #0087ff; text-decoration-color: #0087ff\">RandomZoom</span>)        │ ?                      │   <span style=\"color: #00af00; text-decoration-color: #00af00\">0</span> (unbuilt) │\n",
       "└─────────────────────────────────┴────────────────────────┴───────────────┘\n",
       "</pre>\n"
      ],
      "text/plain": [
       "┏━━━━━━━━━━━━━━━━━━━━━━━━━━━━━━━━━┳━━━━━━━━━━━━━━━━━━━━━━━━┳━━━━━━━━━━━━━━━┓\n",
       "┃\u001b[1m \u001b[0m\u001b[1mLayer (type)                   \u001b[0m\u001b[1m \u001b[0m┃\u001b[1m \u001b[0m\u001b[1mOutput Shape          \u001b[0m\u001b[1m \u001b[0m┃\u001b[1m \u001b[0m\u001b[1m      Param #\u001b[0m\u001b[1m \u001b[0m┃\n",
       "┡━━━━━━━━━━━━━━━━━━━━━━━━━━━━━━━━━╇━━━━━━━━━━━━━━━━━━━━━━━━╇━━━━━━━━━━━━━━━┩\n",
       "│ random_flip (\u001b[38;5;33mRandomFlip\u001b[0m)        │ ?                      │   \u001b[38;5;34m0\u001b[0m (unbuilt) │\n",
       "├─────────────────────────────────┼────────────────────────┼───────────────┤\n",
       "│ random_rotation                 │ ?                      │   \u001b[38;5;34m0\u001b[0m (unbuilt) │\n",
       "│ (\u001b[38;5;33mRandomRotation\u001b[0m)                │                        │               │\n",
       "├─────────────────────────────────┼────────────────────────┼───────────────┤\n",
       "│ random_zoom (\u001b[38;5;33mRandomZoom\u001b[0m)        │ ?                      │   \u001b[38;5;34m0\u001b[0m (unbuilt) │\n",
       "└─────────────────────────────────┴────────────────────────┴───────────────┘\n"
      ]
     },
     "metadata": {},
     "output_type": "display_data"
    },
    {
     "data": {
      "text/html": [
       "<pre style=\"white-space:pre;overflow-x:auto;line-height:normal;font-family:Menlo,'DejaVu Sans Mono',consolas,'Courier New',monospace\"><span style=\"font-weight: bold\"> Total params: </span><span style=\"color: #00af00; text-decoration-color: #00af00\">0</span> (0.00 B)\n",
       "</pre>\n"
      ],
      "text/plain": [
       "\u001b[1m Total params: \u001b[0m\u001b[38;5;34m0\u001b[0m (0.00 B)\n"
      ]
     },
     "metadata": {},
     "output_type": "display_data"
    },
    {
     "data": {
      "text/html": [
       "<pre style=\"white-space:pre;overflow-x:auto;line-height:normal;font-family:Menlo,'DejaVu Sans Mono',consolas,'Courier New',monospace\"><span style=\"font-weight: bold\"> Trainable params: </span><span style=\"color: #00af00; text-decoration-color: #00af00\">0</span> (0.00 B)\n",
       "</pre>\n"
      ],
      "text/plain": [
       "\u001b[1m Trainable params: \u001b[0m\u001b[38;5;34m0\u001b[0m (0.00 B)\n"
      ]
     },
     "metadata": {},
     "output_type": "display_data"
    },
    {
     "data": {
      "text/html": [
       "<pre style=\"white-space:pre;overflow-x:auto;line-height:normal;font-family:Menlo,'DejaVu Sans Mono',consolas,'Courier New',monospace\"><span style=\"font-weight: bold\"> Non-trainable params: </span><span style=\"color: #00af00; text-decoration-color: #00af00\">0</span> (0.00 B)\n",
       "</pre>\n"
      ],
      "text/plain": [
       "\u001b[1m Non-trainable params: \u001b[0m\u001b[38;5;34m0\u001b[0m (0.00 B)\n"
      ]
     },
     "metadata": {},
     "output_type": "display_data"
    }
   ],
   "source": [
    "# This part is mainly for overfitting prevention since we have only 50,000 samples.\n",
    "# Therefore, after each train, we change the picture slightly so the model learns that the content of the picture is important rather than the pixels.\n",
    "\n",
    "data_augmentation = keras.Sequential( # We create a layer which acts as a filter which randomly changes something in the picture.\n",
    "    [\n",
    "    layers.RandomFlip(\"horiozontal\", seed=SEED),\n",
    "    layers.RandomRotation(0.08, seed=SEED),\n",
    "    layers.RandomZoom(0.1, seed=SEED),\n",
    "    ],\n",
    "    name = 'augment' # This will add a section to summary method since we can track the augmentation part.\n",
    ")\n",
    "data_augmentation.summary() # Numbers of parameters are 0 because they don't learn anything and change the picture only."
   ]
  },
  {
   "cell_type": "code",
   "execution_count": 17,
   "id": "083aebe6-d735-482b-a989-95082e165c25",
   "metadata": {},
   "outputs": [
    {
     "data": {
      "text/html": [
       "<pre style=\"white-space:pre;overflow-x:auto;line-height:normal;font-family:Menlo,'DejaVu Sans Mono',consolas,'Courier New',monospace\"><span style=\"font-weight: bold\">Model: \"cnn_cifar10\"</span>\n",
       "</pre>\n"
      ],
      "text/plain": [
       "\u001b[1mModel: \"cnn_cifar10\"\u001b[0m\n"
      ]
     },
     "metadata": {},
     "output_type": "display_data"
    },
    {
     "data": {
      "text/html": [
       "<pre style=\"white-space:pre;overflow-x:auto;line-height:normal;font-family:Menlo,'DejaVu Sans Mono',consolas,'Courier New',monospace\">┏━━━━━━━━━━━━━━━━━━━━━━━━━━━━━━━━━┳━━━━━━━━━━━━━━━━━━━━━━━━┳━━━━━━━━━━━━━━━┓\n",
       "┃<span style=\"font-weight: bold\"> Layer (type)                    </span>┃<span style=\"font-weight: bold\"> Output Shape           </span>┃<span style=\"font-weight: bold\">       Param # </span>┃\n",
       "┡━━━━━━━━━━━━━━━━━━━━━━━━━━━━━━━━━╇━━━━━━━━━━━━━━━━━━━━━━━━╇━━━━━━━━━━━━━━━┩\n",
       "│ input_layer (<span style=\"color: #0087ff; text-decoration-color: #0087ff\">InputLayer</span>)        │ (<span style=\"color: #00d7ff; text-decoration-color: #00d7ff\">None</span>, <span style=\"color: #00af00; text-decoration-color: #00af00\">32</span>, <span style=\"color: #00af00; text-decoration-color: #00af00\">32</span>, <span style=\"color: #00af00; text-decoration-color: #00af00\">3</span>)      │             <span style=\"color: #00af00; text-decoration-color: #00af00\">0</span> │\n",
       "├─────────────────────────────────┼────────────────────────┼───────────────┤\n",
       "│ augment (<span style=\"color: #0087ff; text-decoration-color: #0087ff\">Sequential</span>)            │ (<span style=\"color: #00d7ff; text-decoration-color: #00d7ff\">None</span>, <span style=\"color: #00af00; text-decoration-color: #00af00\">32</span>, <span style=\"color: #00af00; text-decoration-color: #00af00\">32</span>, <span style=\"color: #00af00; text-decoration-color: #00af00\">3</span>)      │             <span style=\"color: #00af00; text-decoration-color: #00af00\">0</span> │\n",
       "├─────────────────────────────────┼────────────────────────┼───────────────┤\n",
       "│ conv2d (<span style=\"color: #0087ff; text-decoration-color: #0087ff\">Conv2D</span>)                 │ (<span style=\"color: #00d7ff; text-decoration-color: #00d7ff\">None</span>, <span style=\"color: #00af00; text-decoration-color: #00af00\">32</span>, <span style=\"color: #00af00; text-decoration-color: #00af00\">32</span>, <span style=\"color: #00af00; text-decoration-color: #00af00\">32</span>)     │           <span style=\"color: #00af00; text-decoration-color: #00af00\">896</span> │\n",
       "├─────────────────────────────────┼────────────────────────┼───────────────┤\n",
       "│ batch_normalization             │ (<span style=\"color: #00d7ff; text-decoration-color: #00d7ff\">None</span>, <span style=\"color: #00af00; text-decoration-color: #00af00\">32</span>, <span style=\"color: #00af00; text-decoration-color: #00af00\">32</span>, <span style=\"color: #00af00; text-decoration-color: #00af00\">32</span>)     │           <span style=\"color: #00af00; text-decoration-color: #00af00\">128</span> │\n",
       "│ (<span style=\"color: #0087ff; text-decoration-color: #0087ff\">BatchNormalization</span>)            │                        │               │\n",
       "├─────────────────────────────────┼────────────────────────┼───────────────┤\n",
       "│ activation (<span style=\"color: #0087ff; text-decoration-color: #0087ff\">Activation</span>)         │ (<span style=\"color: #00d7ff; text-decoration-color: #00d7ff\">None</span>, <span style=\"color: #00af00; text-decoration-color: #00af00\">32</span>, <span style=\"color: #00af00; text-decoration-color: #00af00\">32</span>, <span style=\"color: #00af00; text-decoration-color: #00af00\">32</span>)     │             <span style=\"color: #00af00; text-decoration-color: #00af00\">0</span> │\n",
       "├─────────────────────────────────┼────────────────────────┼───────────────┤\n",
       "│ conv2d_1 (<span style=\"color: #0087ff; text-decoration-color: #0087ff\">Conv2D</span>)               │ (<span style=\"color: #00d7ff; text-decoration-color: #00d7ff\">None</span>, <span style=\"color: #00af00; text-decoration-color: #00af00\">32</span>, <span style=\"color: #00af00; text-decoration-color: #00af00\">32</span>, <span style=\"color: #00af00; text-decoration-color: #00af00\">32</span>)     │         <span style=\"color: #00af00; text-decoration-color: #00af00\">9,248</span> │\n",
       "├─────────────────────────────────┼────────────────────────┼───────────────┤\n",
       "│ batch_normalization_1           │ (<span style=\"color: #00d7ff; text-decoration-color: #00d7ff\">None</span>, <span style=\"color: #00af00; text-decoration-color: #00af00\">32</span>, <span style=\"color: #00af00; text-decoration-color: #00af00\">32</span>, <span style=\"color: #00af00; text-decoration-color: #00af00\">32</span>)     │           <span style=\"color: #00af00; text-decoration-color: #00af00\">128</span> │\n",
       "│ (<span style=\"color: #0087ff; text-decoration-color: #0087ff\">BatchNormalization</span>)            │                        │               │\n",
       "├─────────────────────────────────┼────────────────────────┼───────────────┤\n",
       "│ activation_1 (<span style=\"color: #0087ff; text-decoration-color: #0087ff\">Activation</span>)       │ (<span style=\"color: #00d7ff; text-decoration-color: #00d7ff\">None</span>, <span style=\"color: #00af00; text-decoration-color: #00af00\">32</span>, <span style=\"color: #00af00; text-decoration-color: #00af00\">32</span>, <span style=\"color: #00af00; text-decoration-color: #00af00\">32</span>)     │             <span style=\"color: #00af00; text-decoration-color: #00af00\">0</span> │\n",
       "├─────────────────────────────────┼────────────────────────┼───────────────┤\n",
       "│ max_pooling2d (<span style=\"color: #0087ff; text-decoration-color: #0087ff\">MaxPooling2D</span>)    │ (<span style=\"color: #00d7ff; text-decoration-color: #00d7ff\">None</span>, <span style=\"color: #00af00; text-decoration-color: #00af00\">16</span>, <span style=\"color: #00af00; text-decoration-color: #00af00\">16</span>, <span style=\"color: #00af00; text-decoration-color: #00af00\">32</span>)     │             <span style=\"color: #00af00; text-decoration-color: #00af00\">0</span> │\n",
       "├─────────────────────────────────┼────────────────────────┼───────────────┤\n",
       "│ dropout (<span style=\"color: #0087ff; text-decoration-color: #0087ff\">Dropout</span>)               │ (<span style=\"color: #00d7ff; text-decoration-color: #00d7ff\">None</span>, <span style=\"color: #00af00; text-decoration-color: #00af00\">16</span>, <span style=\"color: #00af00; text-decoration-color: #00af00\">16</span>, <span style=\"color: #00af00; text-decoration-color: #00af00\">32</span>)     │             <span style=\"color: #00af00; text-decoration-color: #00af00\">0</span> │\n",
       "├─────────────────────────────────┼────────────────────────┼───────────────┤\n",
       "│ conv2d_2 (<span style=\"color: #0087ff; text-decoration-color: #0087ff\">Conv2D</span>)               │ (<span style=\"color: #00d7ff; text-decoration-color: #00d7ff\">None</span>, <span style=\"color: #00af00; text-decoration-color: #00af00\">16</span>, <span style=\"color: #00af00; text-decoration-color: #00af00\">16</span>, <span style=\"color: #00af00; text-decoration-color: #00af00\">64</span>)     │        <span style=\"color: #00af00; text-decoration-color: #00af00\">18,496</span> │\n",
       "├─────────────────────────────────┼────────────────────────┼───────────────┤\n",
       "│ batch_normalization_2           │ (<span style=\"color: #00d7ff; text-decoration-color: #00d7ff\">None</span>, <span style=\"color: #00af00; text-decoration-color: #00af00\">16</span>, <span style=\"color: #00af00; text-decoration-color: #00af00\">16</span>, <span style=\"color: #00af00; text-decoration-color: #00af00\">64</span>)     │           <span style=\"color: #00af00; text-decoration-color: #00af00\">256</span> │\n",
       "│ (<span style=\"color: #0087ff; text-decoration-color: #0087ff\">BatchNormalization</span>)            │                        │               │\n",
       "├─────────────────────────────────┼────────────────────────┼───────────────┤\n",
       "│ activation_2 (<span style=\"color: #0087ff; text-decoration-color: #0087ff\">Activation</span>)       │ (<span style=\"color: #00d7ff; text-decoration-color: #00d7ff\">None</span>, <span style=\"color: #00af00; text-decoration-color: #00af00\">16</span>, <span style=\"color: #00af00; text-decoration-color: #00af00\">16</span>, <span style=\"color: #00af00; text-decoration-color: #00af00\">64</span>)     │             <span style=\"color: #00af00; text-decoration-color: #00af00\">0</span> │\n",
       "├─────────────────────────────────┼────────────────────────┼───────────────┤\n",
       "│ conv2d_3 (<span style=\"color: #0087ff; text-decoration-color: #0087ff\">Conv2D</span>)               │ (<span style=\"color: #00d7ff; text-decoration-color: #00d7ff\">None</span>, <span style=\"color: #00af00; text-decoration-color: #00af00\">16</span>, <span style=\"color: #00af00; text-decoration-color: #00af00\">16</span>, <span style=\"color: #00af00; text-decoration-color: #00af00\">64</span>)     │        <span style=\"color: #00af00; text-decoration-color: #00af00\">36,928</span> │\n",
       "├─────────────────────────────────┼────────────────────────┼───────────────┤\n",
       "│ batch_normalization_3           │ (<span style=\"color: #00d7ff; text-decoration-color: #00d7ff\">None</span>, <span style=\"color: #00af00; text-decoration-color: #00af00\">16</span>, <span style=\"color: #00af00; text-decoration-color: #00af00\">16</span>, <span style=\"color: #00af00; text-decoration-color: #00af00\">64</span>)     │           <span style=\"color: #00af00; text-decoration-color: #00af00\">256</span> │\n",
       "│ (<span style=\"color: #0087ff; text-decoration-color: #0087ff\">BatchNormalization</span>)            │                        │               │\n",
       "├─────────────────────────────────┼────────────────────────┼───────────────┤\n",
       "│ activation_3 (<span style=\"color: #0087ff; text-decoration-color: #0087ff\">Activation</span>)       │ (<span style=\"color: #00d7ff; text-decoration-color: #00d7ff\">None</span>, <span style=\"color: #00af00; text-decoration-color: #00af00\">16</span>, <span style=\"color: #00af00; text-decoration-color: #00af00\">16</span>, <span style=\"color: #00af00; text-decoration-color: #00af00\">64</span>)     │             <span style=\"color: #00af00; text-decoration-color: #00af00\">0</span> │\n",
       "├─────────────────────────────────┼────────────────────────┼───────────────┤\n",
       "│ max_pooling2d_1 (<span style=\"color: #0087ff; text-decoration-color: #0087ff\">MaxPooling2D</span>)  │ (<span style=\"color: #00d7ff; text-decoration-color: #00d7ff\">None</span>, <span style=\"color: #00af00; text-decoration-color: #00af00\">8</span>, <span style=\"color: #00af00; text-decoration-color: #00af00\">8</span>, <span style=\"color: #00af00; text-decoration-color: #00af00\">64</span>)       │             <span style=\"color: #00af00; text-decoration-color: #00af00\">0</span> │\n",
       "├─────────────────────────────────┼────────────────────────┼───────────────┤\n",
       "│ dropout_1 (<span style=\"color: #0087ff; text-decoration-color: #0087ff\">Dropout</span>)             │ (<span style=\"color: #00d7ff; text-decoration-color: #00d7ff\">None</span>, <span style=\"color: #00af00; text-decoration-color: #00af00\">8</span>, <span style=\"color: #00af00; text-decoration-color: #00af00\">8</span>, <span style=\"color: #00af00; text-decoration-color: #00af00\">64</span>)       │             <span style=\"color: #00af00; text-decoration-color: #00af00\">0</span> │\n",
       "├─────────────────────────────────┼────────────────────────┼───────────────┤\n",
       "│ conv2d_4 (<span style=\"color: #0087ff; text-decoration-color: #0087ff\">Conv2D</span>)               │ (<span style=\"color: #00d7ff; text-decoration-color: #00d7ff\">None</span>, <span style=\"color: #00af00; text-decoration-color: #00af00\">8</span>, <span style=\"color: #00af00; text-decoration-color: #00af00\">8</span>, <span style=\"color: #00af00; text-decoration-color: #00af00\">128</span>)      │        <span style=\"color: #00af00; text-decoration-color: #00af00\">73,856</span> │\n",
       "├─────────────────────────────────┼────────────────────────┼───────────────┤\n",
       "│ batch_normalization_4           │ (<span style=\"color: #00d7ff; text-decoration-color: #00d7ff\">None</span>, <span style=\"color: #00af00; text-decoration-color: #00af00\">8</span>, <span style=\"color: #00af00; text-decoration-color: #00af00\">8</span>, <span style=\"color: #00af00; text-decoration-color: #00af00\">128</span>)      │           <span style=\"color: #00af00; text-decoration-color: #00af00\">512</span> │\n",
       "│ (<span style=\"color: #0087ff; text-decoration-color: #0087ff\">BatchNormalization</span>)            │                        │               │\n",
       "├─────────────────────────────────┼────────────────────────┼───────────────┤\n",
       "│ activation_4 (<span style=\"color: #0087ff; text-decoration-color: #0087ff\">Activation</span>)       │ (<span style=\"color: #00d7ff; text-decoration-color: #00d7ff\">None</span>, <span style=\"color: #00af00; text-decoration-color: #00af00\">8</span>, <span style=\"color: #00af00; text-decoration-color: #00af00\">8</span>, <span style=\"color: #00af00; text-decoration-color: #00af00\">128</span>)      │             <span style=\"color: #00af00; text-decoration-color: #00af00\">0</span> │\n",
       "├─────────────────────────────────┼────────────────────────┼───────────────┤\n",
       "│ conv2d_5 (<span style=\"color: #0087ff; text-decoration-color: #0087ff\">Conv2D</span>)               │ (<span style=\"color: #00d7ff; text-decoration-color: #00d7ff\">None</span>, <span style=\"color: #00af00; text-decoration-color: #00af00\">8</span>, <span style=\"color: #00af00; text-decoration-color: #00af00\">8</span>, <span style=\"color: #00af00; text-decoration-color: #00af00\">128</span>)      │       <span style=\"color: #00af00; text-decoration-color: #00af00\">147,584</span> │\n",
       "├─────────────────────────────────┼────────────────────────┼───────────────┤\n",
       "│ batch_normalization_5           │ (<span style=\"color: #00d7ff; text-decoration-color: #00d7ff\">None</span>, <span style=\"color: #00af00; text-decoration-color: #00af00\">8</span>, <span style=\"color: #00af00; text-decoration-color: #00af00\">8</span>, <span style=\"color: #00af00; text-decoration-color: #00af00\">128</span>)      │           <span style=\"color: #00af00; text-decoration-color: #00af00\">512</span> │\n",
       "│ (<span style=\"color: #0087ff; text-decoration-color: #0087ff\">BatchNormalization</span>)            │                        │               │\n",
       "├─────────────────────────────────┼────────────────────────┼───────────────┤\n",
       "│ activation_5 (<span style=\"color: #0087ff; text-decoration-color: #0087ff\">Activation</span>)       │ (<span style=\"color: #00d7ff; text-decoration-color: #00d7ff\">None</span>, <span style=\"color: #00af00; text-decoration-color: #00af00\">8</span>, <span style=\"color: #00af00; text-decoration-color: #00af00\">8</span>, <span style=\"color: #00af00; text-decoration-color: #00af00\">128</span>)      │             <span style=\"color: #00af00; text-decoration-color: #00af00\">0</span> │\n",
       "├─────────────────────────────────┼────────────────────────┼───────────────┤\n",
       "│ max_pooling2d_2 (<span style=\"color: #0087ff; text-decoration-color: #0087ff\">MaxPooling2D</span>)  │ (<span style=\"color: #00d7ff; text-decoration-color: #00d7ff\">None</span>, <span style=\"color: #00af00; text-decoration-color: #00af00\">4</span>, <span style=\"color: #00af00; text-decoration-color: #00af00\">4</span>, <span style=\"color: #00af00; text-decoration-color: #00af00\">128</span>)      │             <span style=\"color: #00af00; text-decoration-color: #00af00\">0</span> │\n",
       "├─────────────────────────────────┼────────────────────────┼───────────────┤\n",
       "│ dropout_2 (<span style=\"color: #0087ff; text-decoration-color: #0087ff\">Dropout</span>)             │ (<span style=\"color: #00d7ff; text-decoration-color: #00d7ff\">None</span>, <span style=\"color: #00af00; text-decoration-color: #00af00\">4</span>, <span style=\"color: #00af00; text-decoration-color: #00af00\">4</span>, <span style=\"color: #00af00; text-decoration-color: #00af00\">128</span>)      │             <span style=\"color: #00af00; text-decoration-color: #00af00\">0</span> │\n",
       "├─────────────────────────────────┼────────────────────────┼───────────────┤\n",
       "│ flatten (<span style=\"color: #0087ff; text-decoration-color: #0087ff\">Flatten</span>)               │ (<span style=\"color: #00d7ff; text-decoration-color: #00d7ff\">None</span>, <span style=\"color: #00af00; text-decoration-color: #00af00\">2048</span>)           │             <span style=\"color: #00af00; text-decoration-color: #00af00\">0</span> │\n",
       "├─────────────────────────────────┼────────────────────────┼───────────────┤\n",
       "│ dense (<span style=\"color: #0087ff; text-decoration-color: #0087ff\">Dense</span>)                   │ (<span style=\"color: #00d7ff; text-decoration-color: #00d7ff\">None</span>, <span style=\"color: #00af00; text-decoration-color: #00af00\">256</span>)            │       <span style=\"color: #00af00; text-decoration-color: #00af00\">524,544</span> │\n",
       "├─────────────────────────────────┼────────────────────────┼───────────────┤\n",
       "│ batch_normalization_6           │ (<span style=\"color: #00d7ff; text-decoration-color: #00d7ff\">None</span>, <span style=\"color: #00af00; text-decoration-color: #00af00\">256</span>)            │         <span style=\"color: #00af00; text-decoration-color: #00af00\">1,024</span> │\n",
       "│ (<span style=\"color: #0087ff; text-decoration-color: #0087ff\">BatchNormalization</span>)            │                        │               │\n",
       "├─────────────────────────────────┼────────────────────────┼───────────────┤\n",
       "│ activation_6 (<span style=\"color: #0087ff; text-decoration-color: #0087ff\">Activation</span>)       │ (<span style=\"color: #00d7ff; text-decoration-color: #00d7ff\">None</span>, <span style=\"color: #00af00; text-decoration-color: #00af00\">256</span>)            │             <span style=\"color: #00af00; text-decoration-color: #00af00\">0</span> │\n",
       "├─────────────────────────────────┼────────────────────────┼───────────────┤\n",
       "│ dropout_3 (<span style=\"color: #0087ff; text-decoration-color: #0087ff\">Dropout</span>)             │ (<span style=\"color: #00d7ff; text-decoration-color: #00d7ff\">None</span>, <span style=\"color: #00af00; text-decoration-color: #00af00\">256</span>)            │             <span style=\"color: #00af00; text-decoration-color: #00af00\">0</span> │\n",
       "├─────────────────────────────────┼────────────────────────┼───────────────┤\n",
       "│ dense_1 (<span style=\"color: #0087ff; text-decoration-color: #0087ff\">Dense</span>)                 │ (<span style=\"color: #00d7ff; text-decoration-color: #00d7ff\">None</span>, <span style=\"color: #00af00; text-decoration-color: #00af00\">10</span>)             │         <span style=\"color: #00af00; text-decoration-color: #00af00\">2,570</span> │\n",
       "└─────────────────────────────────┴────────────────────────┴───────────────┘\n",
       "</pre>\n"
      ],
      "text/plain": [
       "┏━━━━━━━━━━━━━━━━━━━━━━━━━━━━━━━━━┳━━━━━━━━━━━━━━━━━━━━━━━━┳━━━━━━━━━━━━━━━┓\n",
       "┃\u001b[1m \u001b[0m\u001b[1mLayer (type)                   \u001b[0m\u001b[1m \u001b[0m┃\u001b[1m \u001b[0m\u001b[1mOutput Shape          \u001b[0m\u001b[1m \u001b[0m┃\u001b[1m \u001b[0m\u001b[1m      Param #\u001b[0m\u001b[1m \u001b[0m┃\n",
       "┡━━━━━━━━━━━━━━━━━━━━━━━━━━━━━━━━━╇━━━━━━━━━━━━━━━━━━━━━━━━╇━━━━━━━━━━━━━━━┩\n",
       "│ input_layer (\u001b[38;5;33mInputLayer\u001b[0m)        │ (\u001b[38;5;45mNone\u001b[0m, \u001b[38;5;34m32\u001b[0m, \u001b[38;5;34m32\u001b[0m, \u001b[38;5;34m3\u001b[0m)      │             \u001b[38;5;34m0\u001b[0m │\n",
       "├─────────────────────────────────┼────────────────────────┼───────────────┤\n",
       "│ augment (\u001b[38;5;33mSequential\u001b[0m)            │ (\u001b[38;5;45mNone\u001b[0m, \u001b[38;5;34m32\u001b[0m, \u001b[38;5;34m32\u001b[0m, \u001b[38;5;34m3\u001b[0m)      │             \u001b[38;5;34m0\u001b[0m │\n",
       "├─────────────────────────────────┼────────────────────────┼───────────────┤\n",
       "│ conv2d (\u001b[38;5;33mConv2D\u001b[0m)                 │ (\u001b[38;5;45mNone\u001b[0m, \u001b[38;5;34m32\u001b[0m, \u001b[38;5;34m32\u001b[0m, \u001b[38;5;34m32\u001b[0m)     │           \u001b[38;5;34m896\u001b[0m │\n",
       "├─────────────────────────────────┼────────────────────────┼───────────────┤\n",
       "│ batch_normalization             │ (\u001b[38;5;45mNone\u001b[0m, \u001b[38;5;34m32\u001b[0m, \u001b[38;5;34m32\u001b[0m, \u001b[38;5;34m32\u001b[0m)     │           \u001b[38;5;34m128\u001b[0m │\n",
       "│ (\u001b[38;5;33mBatchNormalization\u001b[0m)            │                        │               │\n",
       "├─────────────────────────────────┼────────────────────────┼───────────────┤\n",
       "│ activation (\u001b[38;5;33mActivation\u001b[0m)         │ (\u001b[38;5;45mNone\u001b[0m, \u001b[38;5;34m32\u001b[0m, \u001b[38;5;34m32\u001b[0m, \u001b[38;5;34m32\u001b[0m)     │             \u001b[38;5;34m0\u001b[0m │\n",
       "├─────────────────────────────────┼────────────────────────┼───────────────┤\n",
       "│ conv2d_1 (\u001b[38;5;33mConv2D\u001b[0m)               │ (\u001b[38;5;45mNone\u001b[0m, \u001b[38;5;34m32\u001b[0m, \u001b[38;5;34m32\u001b[0m, \u001b[38;5;34m32\u001b[0m)     │         \u001b[38;5;34m9,248\u001b[0m │\n",
       "├─────────────────────────────────┼────────────────────────┼───────────────┤\n",
       "│ batch_normalization_1           │ (\u001b[38;5;45mNone\u001b[0m, \u001b[38;5;34m32\u001b[0m, \u001b[38;5;34m32\u001b[0m, \u001b[38;5;34m32\u001b[0m)     │           \u001b[38;5;34m128\u001b[0m │\n",
       "│ (\u001b[38;5;33mBatchNormalization\u001b[0m)            │                        │               │\n",
       "├─────────────────────────────────┼────────────────────────┼───────────────┤\n",
       "│ activation_1 (\u001b[38;5;33mActivation\u001b[0m)       │ (\u001b[38;5;45mNone\u001b[0m, \u001b[38;5;34m32\u001b[0m, \u001b[38;5;34m32\u001b[0m, \u001b[38;5;34m32\u001b[0m)     │             \u001b[38;5;34m0\u001b[0m │\n",
       "├─────────────────────────────────┼────────────────────────┼───────────────┤\n",
       "│ max_pooling2d (\u001b[38;5;33mMaxPooling2D\u001b[0m)    │ (\u001b[38;5;45mNone\u001b[0m, \u001b[38;5;34m16\u001b[0m, \u001b[38;5;34m16\u001b[0m, \u001b[38;5;34m32\u001b[0m)     │             \u001b[38;5;34m0\u001b[0m │\n",
       "├─────────────────────────────────┼────────────────────────┼───────────────┤\n",
       "│ dropout (\u001b[38;5;33mDropout\u001b[0m)               │ (\u001b[38;5;45mNone\u001b[0m, \u001b[38;5;34m16\u001b[0m, \u001b[38;5;34m16\u001b[0m, \u001b[38;5;34m32\u001b[0m)     │             \u001b[38;5;34m0\u001b[0m │\n",
       "├─────────────────────────────────┼────────────────────────┼───────────────┤\n",
       "│ conv2d_2 (\u001b[38;5;33mConv2D\u001b[0m)               │ (\u001b[38;5;45mNone\u001b[0m, \u001b[38;5;34m16\u001b[0m, \u001b[38;5;34m16\u001b[0m, \u001b[38;5;34m64\u001b[0m)     │        \u001b[38;5;34m18,496\u001b[0m │\n",
       "├─────────────────────────────────┼────────────────────────┼───────────────┤\n",
       "│ batch_normalization_2           │ (\u001b[38;5;45mNone\u001b[0m, \u001b[38;5;34m16\u001b[0m, \u001b[38;5;34m16\u001b[0m, \u001b[38;5;34m64\u001b[0m)     │           \u001b[38;5;34m256\u001b[0m │\n",
       "│ (\u001b[38;5;33mBatchNormalization\u001b[0m)            │                        │               │\n",
       "├─────────────────────────────────┼────────────────────────┼───────────────┤\n",
       "│ activation_2 (\u001b[38;5;33mActivation\u001b[0m)       │ (\u001b[38;5;45mNone\u001b[0m, \u001b[38;5;34m16\u001b[0m, \u001b[38;5;34m16\u001b[0m, \u001b[38;5;34m64\u001b[0m)     │             \u001b[38;5;34m0\u001b[0m │\n",
       "├─────────────────────────────────┼────────────────────────┼───────────────┤\n",
       "│ conv2d_3 (\u001b[38;5;33mConv2D\u001b[0m)               │ (\u001b[38;5;45mNone\u001b[0m, \u001b[38;5;34m16\u001b[0m, \u001b[38;5;34m16\u001b[0m, \u001b[38;5;34m64\u001b[0m)     │        \u001b[38;5;34m36,928\u001b[0m │\n",
       "├─────────────────────────────────┼────────────────────────┼───────────────┤\n",
       "│ batch_normalization_3           │ (\u001b[38;5;45mNone\u001b[0m, \u001b[38;5;34m16\u001b[0m, \u001b[38;5;34m16\u001b[0m, \u001b[38;5;34m64\u001b[0m)     │           \u001b[38;5;34m256\u001b[0m │\n",
       "│ (\u001b[38;5;33mBatchNormalization\u001b[0m)            │                        │               │\n",
       "├─────────────────────────────────┼────────────────────────┼───────────────┤\n",
       "│ activation_3 (\u001b[38;5;33mActivation\u001b[0m)       │ (\u001b[38;5;45mNone\u001b[0m, \u001b[38;5;34m16\u001b[0m, \u001b[38;5;34m16\u001b[0m, \u001b[38;5;34m64\u001b[0m)     │             \u001b[38;5;34m0\u001b[0m │\n",
       "├─────────────────────────────────┼────────────────────────┼───────────────┤\n",
       "│ max_pooling2d_1 (\u001b[38;5;33mMaxPooling2D\u001b[0m)  │ (\u001b[38;5;45mNone\u001b[0m, \u001b[38;5;34m8\u001b[0m, \u001b[38;5;34m8\u001b[0m, \u001b[38;5;34m64\u001b[0m)       │             \u001b[38;5;34m0\u001b[0m │\n",
       "├─────────────────────────────────┼────────────────────────┼───────────────┤\n",
       "│ dropout_1 (\u001b[38;5;33mDropout\u001b[0m)             │ (\u001b[38;5;45mNone\u001b[0m, \u001b[38;5;34m8\u001b[0m, \u001b[38;5;34m8\u001b[0m, \u001b[38;5;34m64\u001b[0m)       │             \u001b[38;5;34m0\u001b[0m │\n",
       "├─────────────────────────────────┼────────────────────────┼───────────────┤\n",
       "│ conv2d_4 (\u001b[38;5;33mConv2D\u001b[0m)               │ (\u001b[38;5;45mNone\u001b[0m, \u001b[38;5;34m8\u001b[0m, \u001b[38;5;34m8\u001b[0m, \u001b[38;5;34m128\u001b[0m)      │        \u001b[38;5;34m73,856\u001b[0m │\n",
       "├─────────────────────────────────┼────────────────────────┼───────────────┤\n",
       "│ batch_normalization_4           │ (\u001b[38;5;45mNone\u001b[0m, \u001b[38;5;34m8\u001b[0m, \u001b[38;5;34m8\u001b[0m, \u001b[38;5;34m128\u001b[0m)      │           \u001b[38;5;34m512\u001b[0m │\n",
       "│ (\u001b[38;5;33mBatchNormalization\u001b[0m)            │                        │               │\n",
       "├─────────────────────────────────┼────────────────────────┼───────────────┤\n",
       "│ activation_4 (\u001b[38;5;33mActivation\u001b[0m)       │ (\u001b[38;5;45mNone\u001b[0m, \u001b[38;5;34m8\u001b[0m, \u001b[38;5;34m8\u001b[0m, \u001b[38;5;34m128\u001b[0m)      │             \u001b[38;5;34m0\u001b[0m │\n",
       "├─────────────────────────────────┼────────────────────────┼───────────────┤\n",
       "│ conv2d_5 (\u001b[38;5;33mConv2D\u001b[0m)               │ (\u001b[38;5;45mNone\u001b[0m, \u001b[38;5;34m8\u001b[0m, \u001b[38;5;34m8\u001b[0m, \u001b[38;5;34m128\u001b[0m)      │       \u001b[38;5;34m147,584\u001b[0m │\n",
       "├─────────────────────────────────┼────────────────────────┼───────────────┤\n",
       "│ batch_normalization_5           │ (\u001b[38;5;45mNone\u001b[0m, \u001b[38;5;34m8\u001b[0m, \u001b[38;5;34m8\u001b[0m, \u001b[38;5;34m128\u001b[0m)      │           \u001b[38;5;34m512\u001b[0m │\n",
       "│ (\u001b[38;5;33mBatchNormalization\u001b[0m)            │                        │               │\n",
       "├─────────────────────────────────┼────────────────────────┼───────────────┤\n",
       "│ activation_5 (\u001b[38;5;33mActivation\u001b[0m)       │ (\u001b[38;5;45mNone\u001b[0m, \u001b[38;5;34m8\u001b[0m, \u001b[38;5;34m8\u001b[0m, \u001b[38;5;34m128\u001b[0m)      │             \u001b[38;5;34m0\u001b[0m │\n",
       "├─────────────────────────────────┼────────────────────────┼───────────────┤\n",
       "│ max_pooling2d_2 (\u001b[38;5;33mMaxPooling2D\u001b[0m)  │ (\u001b[38;5;45mNone\u001b[0m, \u001b[38;5;34m4\u001b[0m, \u001b[38;5;34m4\u001b[0m, \u001b[38;5;34m128\u001b[0m)      │             \u001b[38;5;34m0\u001b[0m │\n",
       "├─────────────────────────────────┼────────────────────────┼───────────────┤\n",
       "│ dropout_2 (\u001b[38;5;33mDropout\u001b[0m)             │ (\u001b[38;5;45mNone\u001b[0m, \u001b[38;5;34m4\u001b[0m, \u001b[38;5;34m4\u001b[0m, \u001b[38;5;34m128\u001b[0m)      │             \u001b[38;5;34m0\u001b[0m │\n",
       "├─────────────────────────────────┼────────────────────────┼───────────────┤\n",
       "│ flatten (\u001b[38;5;33mFlatten\u001b[0m)               │ (\u001b[38;5;45mNone\u001b[0m, \u001b[38;5;34m2048\u001b[0m)           │             \u001b[38;5;34m0\u001b[0m │\n",
       "├─────────────────────────────────┼────────────────────────┼───────────────┤\n",
       "│ dense (\u001b[38;5;33mDense\u001b[0m)                   │ (\u001b[38;5;45mNone\u001b[0m, \u001b[38;5;34m256\u001b[0m)            │       \u001b[38;5;34m524,544\u001b[0m │\n",
       "├─────────────────────────────────┼────────────────────────┼───────────────┤\n",
       "│ batch_normalization_6           │ (\u001b[38;5;45mNone\u001b[0m, \u001b[38;5;34m256\u001b[0m)            │         \u001b[38;5;34m1,024\u001b[0m │\n",
       "│ (\u001b[38;5;33mBatchNormalization\u001b[0m)            │                        │               │\n",
       "├─────────────────────────────────┼────────────────────────┼───────────────┤\n",
       "│ activation_6 (\u001b[38;5;33mActivation\u001b[0m)       │ (\u001b[38;5;45mNone\u001b[0m, \u001b[38;5;34m256\u001b[0m)            │             \u001b[38;5;34m0\u001b[0m │\n",
       "├─────────────────────────────────┼────────────────────────┼───────────────┤\n",
       "│ dropout_3 (\u001b[38;5;33mDropout\u001b[0m)             │ (\u001b[38;5;45mNone\u001b[0m, \u001b[38;5;34m256\u001b[0m)            │             \u001b[38;5;34m0\u001b[0m │\n",
       "├─────────────────────────────────┼────────────────────────┼───────────────┤\n",
       "│ dense_1 (\u001b[38;5;33mDense\u001b[0m)                 │ (\u001b[38;5;45mNone\u001b[0m, \u001b[38;5;34m10\u001b[0m)             │         \u001b[38;5;34m2,570\u001b[0m │\n",
       "└─────────────────────────────────┴────────────────────────┴───────────────┘\n"
      ]
     },
     "metadata": {},
     "output_type": "display_data"
    },
    {
     "data": {
      "text/html": [
       "<pre style=\"white-space:pre;overflow-x:auto;line-height:normal;font-family:Menlo,'DejaVu Sans Mono',consolas,'Courier New',monospace\"><span style=\"font-weight: bold\"> Total params: </span><span style=\"color: #00af00; text-decoration-color: #00af00\">816,938</span> (3.12 MB)\n",
       "</pre>\n"
      ],
      "text/plain": [
       "\u001b[1m Total params: \u001b[0m\u001b[38;5;34m816,938\u001b[0m (3.12 MB)\n"
      ]
     },
     "metadata": {},
     "output_type": "display_data"
    },
    {
     "data": {
      "text/html": [
       "<pre style=\"white-space:pre;overflow-x:auto;line-height:normal;font-family:Menlo,'DejaVu Sans Mono',consolas,'Courier New',monospace\"><span style=\"font-weight: bold\"> Trainable params: </span><span style=\"color: #00af00; text-decoration-color: #00af00\">815,530</span> (3.11 MB)\n",
       "</pre>\n"
      ],
      "text/plain": [
       "\u001b[1m Trainable params: \u001b[0m\u001b[38;5;34m815,530\u001b[0m (3.11 MB)\n"
      ]
     },
     "metadata": {},
     "output_type": "display_data"
    },
    {
     "data": {
      "text/html": [
       "<pre style=\"white-space:pre;overflow-x:auto;line-height:normal;font-family:Menlo,'DejaVu Sans Mono',consolas,'Courier New',monospace\"><span style=\"font-weight: bold\"> Non-trainable params: </span><span style=\"color: #00af00; text-decoration-color: #00af00\">1,408</span> (5.50 KB)\n",
       "</pre>\n"
      ],
      "text/plain": [
       "\u001b[1m Non-trainable params: \u001b[0m\u001b[38;5;34m1,408\u001b[0m (5.50 KB)\n"
      ]
     },
     "metadata": {},
     "output_type": "display_data"
    }
   ],
   "source": [
    "def build_model():\n",
    "    inputs = keras.Input(shape=input_shape) # This is the input of our NN, which is (32, 32, 3).\n",
    "\n",
    "    x = data_augmentation(inputs) # We apply this filter randomly while training only.\n",
    "\n",
    "    # First layer which extracts basic details.\n",
    "    x = layers.Conv2D(32, 3, padding=\"same\")(x) # We apply 32 filters with the size of 3x3, with padding we keep the HW the same on both training and output.\n",
    "    x = layers.BatchNormalization()(x) # We normalize each batch which is 32 here.\n",
    "    x = layers.Activation(\"relu\")(x) # This makes the negative values zero and makes it non-linear.\n",
    "    x = layers.Conv2D(32, 3, padding=\"same\")(x) # This layer catches more detiled aspects such as edges, etc.\n",
    "    x = layers.BatchNormalization()(x)\n",
    "    x = layers.Activation(\"relu\")(x)\n",
    "    x = layers.MaxPooling2D()(x) # We reduce the size from 32x32 to 16x16 in order to reduce the training time and also focus on more important aspects of the picture.\n",
    "    x = layers.Dropout(0.25)(x) # We prevent overfitting by disabling 25% of neurons.\n",
    "\n",
    "    # In this block, we increase the filters from 32 to 64 in order to identify more complex patters such as harmony of items, etc.\n",
    "    x = layers.Conv2D(64, 3, padding=\"same\")(x)\n",
    "    x = layers.BatchNormalization()(x)\n",
    "    x = layers.Activation(\"relu\")(x)\n",
    "    x = layers.Conv2D(64, 3, padding=\"same\")(x)\n",
    "    x = layers.BatchNormalization()(x)\n",
    "    x = layers.Activation(\"relu\")(x)\n",
    "    x = layers.MaxPooling2D()(x)\n",
    "    x = layers.Dropout(0.35)(x) # Since this layer is deeper, we disble 35% now to prevent overfitting.\n",
    "\n",
    "    # Extracting deep and complex features, for example telling apart car from wheels or legs from cat.\n",
    "    x = layers.Conv2D(128, 3, padding=\"same\")(x)\n",
    "    x = layers.BatchNormalization()(x)\n",
    "    x = layers.Activation(\"relu\")(x)\n",
    "    x = layers.Conv2D(128, 3, padding=\"same\")(x)\n",
    "    x = layers.BatchNormalization()(x)\n",
    "    x = layers.Activation(\"relu\")(x)\n",
    "    x = layers.MaxPooling2D()(x)\n",
    "    x = layers.Dropout(0.4)(x) # Again more dropout to prevent overfitting.\n",
    "\n",
    "    x = layers.Flatten()(x) # The output which is (H, W, C) will be converted to an 1D vector which includes every extracted detail.\n",
    "    x = layers.Dense(256)(x) # A fully connected NN with 256 neurons, here the model learns which features are the best to identify the class of the given object, the number of neurons must be something which prevents boh under and overfitting.\n",
    "    x = layers.BatchNormalization()(x) # We normalize the output of each nueron to keep them in the ideal area with variance of 1 and the average to 0.\n",
    "    x = layers.Activation(\"relu\")(x) # We make the model non-linear so it can learn complex connection between features.\n",
    "    x = layers.Dropout(0.5)(x) # We disable 50% of the neurons in order to make sure we don't rely on a specefic feature.\n",
    "\n",
    "    outputs = layers.Dense(num_classes, activation=\"softmax\")(x) # This activation function will return the class of the image, we have 10 neurons since we have 10 diffrent classes.\n",
    "    model = keras.Model(inputs, outputs, name=\"cnn_cifar10\") # This will connect the input and output neurons to have a complete model, the name is just for summary method.\n",
    "    return model\n",
    "\n",
    "model = build_model() # We create the NN model which we just made.\n",
    "model.summary() # This shows the NN structure, number of parameters which is the amount of samples the model learns during training phase and also the shape of each layer.\n",
    "# You can see as we go down and the nuber of filters are increasing, we have more parameters."
   ]
  },
  {
   "cell_type": "code",
   "execution_count": 19,
   "id": "c936be37-07fc-4c4f-8d90-3734bd79be32",
   "metadata": {},
   "outputs": [],
   "source": [
    "# Here we set the settings for training phase of our model.\n",
    "model.compile(\n",
    "    optimizer = keras.optimizers.Adam(LR), # This is the brain of our model which updates the weights based on loss.\n",
    "    loss = keras.losses.SparseCategoricalCrossentropy(), # This part helps optimizer to update the weights to get the correct class, we use Sparse since the model returns a simple number such as 5 rather than (0, 0, 0, 0, 1, 0 ,0 ,0 ,0, 0) which in this case we would use CategoricalCrossEntropy if it was one-hot encoding.\n",
    "    metrics=['accuracy'] # This line will report the performance during the training, this part only shows us the performance and doesn't affect the training process\n",
    ")"
   ]
  },
  {
   "cell_type": "code",
   "execution_count": 21,
   "id": "84b17a97-ec8b-4b87-a09c-adb1e39d3f26",
   "metadata": {},
   "outputs": [
    {
     "name": "stdout",
     "output_type": "stream",
     "text": [
      "704 79 157\n"
     ]
    },
    {
     "name": "stderr",
     "output_type": "stream",
     "text": [
      "2025-10-24 21:38:04.140211: I tensorflow/core/framework/local_rendezvous.cc:407] Local rendezvous is aborting with status: OUT_OF_RANGE: End of sequence\n"
     ]
    }
   ],
   "source": [
    "val_ratio = 0.1 # We keep 10% of the training data for validation.\n",
    "val_size = int(x_train.shape[0] * val_ratio) # This multiplies the total amount of data we have which is 50,000 here by the ratio, therefore, we get 5,000.\n",
    "\n",
    "x_val, y_val = x_train[:val_size], y_train[:val_size] # The first 5000 pictures for validation during the training after each epoch.\n",
    "x_trn, y_trn = x_train[val_size:], y_train[val_size:] # The rest of the images which are 45,000 and we use this to train the model.\n",
    "# Note that we still have x_test which is 10,000.\n",
    "\n",
    "# We convert the numpy data to tensorflow dataset which is more optimal.\n",
    "# Shuffle will randomize the data during each epoch in order to prevent for example all of the cat images to enter the NN at the same time, here we save 40,000 images in each shuffle.\n",
    "# The batch will group the images in smaller mini-training steps in order to prevent the model from seeing everything a the same time hence it is faster.\n",
    "# We prefetch in order to prepare the next batch while the current one is being trained in order to prevent the GPU from being idle and autotune will allow TF to set the best value for amount of prefetched data.\n",
    "# THE ORDER OF THE ACTIONS WE DID IS IMPORTANT!\n",
    "train_ds = tf.data.Dataset.from_tensor_slices((x_trn, y_trn)).shuffle(40000, seed=SEED).batch(BATCH_SIZE).prefetch(tf.data.AUTOTUNE)\n",
    "\n",
    "# We do not need shuffle for test and validation since order is not important since have passed the training.\n",
    "# We only apply batch and prefeth for speed and performance reasons.\n",
    "val_ds = tf.data.Dataset.from_tensor_slices((x_val, y_val)).batch(BATCH_SIZE).prefetch(tf.data.AUTOTUNE)\n",
    "test_ds = tf.data.Dataset.from_tensor_slices((x_test, y_test)).batch(batch_size=BATCH_SIZE).prefetch(tf.data.AUTOTUNE)\n",
    "\n",
    "print(len(list(train_ds)), len(list(val_ds)), len(list(test_ds))) # This returns the number batches in each dataset."
   ]
  },
  {
   "cell_type": "code",
   "execution_count": 24,
   "id": "8a508cbb-9116-4f10-adda-9615a4cd55a5",
   "metadata": {},
   "outputs": [
    {
     "data": {
      "text/plain": [
       "[<keras.src.callbacks.early_stopping.EarlyStopping at 0x36871ec00>,\n",
       " <keras.src.callbacks.reduce_lr_on_plateau.ReduceLROnPlateau at 0x36871d610>,\n",
       " <keras.src.callbacks.model_checkpoint.ModelCheckpoint at 0x36871f980>]"
      ]
     },
     "execution_count": 24,
     "metadata": {},
     "output_type": "execute_result"
    }
   ],
   "source": [
    "# With callbacks, we manage and optimize the traing behavior of the model.\n",
    "# They can be executed after certain time for example after each epoch and change things such as LR or stop the training.\n",
    "callbacks = [\n",
    "    EarlyStopping(monitor='val_accuracy', patience=6, restore_best_weights=True), # This stops the training process if the model doesn't improve performance on validation ds after 6 epochs, this is in order to prevent overfitting.\n",
    "    ReduceLROnPlateau(monitor='val_loss', factor=0.5, patience=3, min_lr=1e-6), # This will reduce the LR in case the model can't improve loss after 3 epochs.\n",
    "    ModelCheckpoint(BEST_WEIGHTS_PATH, monitor='val_accuracy', save_best_only=True, save_weights_only=True) # This saves the best trained model based on the defined qualities during the training phase\n",
    "]\n",
    "# The callbacks above will:\n",
    "# Prevent overfitting\n",
    "# Get the model to best weights\n",
    "# Save the best weights"
   ]
  },
  {
   "cell_type": "code",
   "execution_count": 25,
   "id": "87652051-b1d6-4740-b17c-0780260eb88e",
   "metadata": {},
   "outputs": [
    {
     "name": "stdout",
     "output_type": "stream",
     "text": [
      "Epoch 1/30\n",
      "704/704 - 58s - 82ms/step - accuracy: 0.3853 - loss: 1.7250 - val_accuracy: 0.4534 - val_loss: 1.4857 - learning_rate: 1.0000e-03\n",
      "Epoch 2/30\n",
      "704/704 - 56s - 80ms/step - accuracy: 0.5234 - loss: 1.3249 - val_accuracy: 0.5744 - val_loss: 1.1714 - learning_rate: 1.0000e-03\n",
      "Epoch 3/30\n",
      "704/704 - 56s - 80ms/step - accuracy: 0.5837 - loss: 1.1718 - val_accuracy: 0.6488 - val_loss: 1.0240 - learning_rate: 1.0000e-03\n",
      "Epoch 4/30\n",
      "704/704 - 56s - 79ms/step - accuracy: 0.6216 - loss: 1.0666 - val_accuracy: 0.6654 - val_loss: 0.9822 - learning_rate: 1.0000e-03\n",
      "Epoch 5/30\n",
      "704/704 - 55s - 79ms/step - accuracy: 0.6515 - loss: 0.9954 - val_accuracy: 0.6576 - val_loss: 1.0411 - learning_rate: 1.0000e-03\n",
      "Epoch 6/30\n",
      "704/704 - 55s - 78ms/step - accuracy: 0.6701 - loss: 0.9437 - val_accuracy: 0.6922 - val_loss: 0.8550 - learning_rate: 1.0000e-03\n",
      "Epoch 7/30\n",
      "704/704 - 55s - 78ms/step - accuracy: 0.6826 - loss: 0.9046 - val_accuracy: 0.7106 - val_loss: 0.8130 - learning_rate: 1.0000e-03\n",
      "Epoch 8/30\n",
      "704/704 - 55s - 78ms/step - accuracy: 0.6982 - loss: 0.8637 - val_accuracy: 0.7196 - val_loss: 0.8050 - learning_rate: 1.0000e-03\n",
      "Epoch 9/30\n",
      "704/704 - 55s - 78ms/step - accuracy: 0.7111 - loss: 0.8308 - val_accuracy: 0.7574 - val_loss: 0.6831 - learning_rate: 1.0000e-03\n",
      "Epoch 10/30\n",
      "704/704 - 54s - 77ms/step - accuracy: 0.7194 - loss: 0.8063 - val_accuracy: 0.7600 - val_loss: 0.6914 - learning_rate: 1.0000e-03\n",
      "Epoch 11/30\n",
      "704/704 - 54s - 76ms/step - accuracy: 0.7274 - loss: 0.7849 - val_accuracy: 0.7548 - val_loss: 0.7091 - learning_rate: 1.0000e-03\n",
      "Epoch 12/30\n",
      "704/704 - 53s - 75ms/step - accuracy: 0.7346 - loss: 0.7622 - val_accuracy: 0.7646 - val_loss: 0.6646 - learning_rate: 1.0000e-03\n",
      "Epoch 13/30\n",
      "704/704 - 52s - 75ms/step - accuracy: 0.7458 - loss: 0.7392 - val_accuracy: 0.7504 - val_loss: 0.7688 - learning_rate: 1.0000e-03\n",
      "Epoch 14/30\n",
      "704/704 - 52s - 75ms/step - accuracy: 0.7472 - loss: 0.7265 - val_accuracy: 0.7660 - val_loss: 0.6669 - learning_rate: 1.0000e-03\n",
      "Epoch 15/30\n",
      "704/704 - 54s - 77ms/step - accuracy: 0.7558 - loss: 0.7058 - val_accuracy: 0.7506 - val_loss: 0.7211 - learning_rate: 1.0000e-03\n",
      "Epoch 16/30\n",
      "704/704 - 54s - 77ms/step - accuracy: 0.7749 - loss: 0.6494 - val_accuracy: 0.7956 - val_loss: 0.6012 - learning_rate: 5.0000e-04\n",
      "Epoch 17/30\n",
      "704/704 - 54s - 77ms/step - accuracy: 0.7788 - loss: 0.6433 - val_accuracy: 0.8166 - val_loss: 0.5291 - learning_rate: 5.0000e-04\n",
      "Epoch 18/30\n",
      "704/704 - 54s - 77ms/step - accuracy: 0.7835 - loss: 0.6329 - val_accuracy: 0.7892 - val_loss: 0.6134 - learning_rate: 5.0000e-04\n",
      "Epoch 19/30\n",
      "704/704 - 53s - 75ms/step - accuracy: 0.7890 - loss: 0.6104 - val_accuracy: 0.8238 - val_loss: 0.5032 - learning_rate: 5.0000e-04\n",
      "Epoch 20/30\n",
      "704/704 - 53s - 76ms/step - accuracy: 0.7917 - loss: 0.6065 - val_accuracy: 0.8144 - val_loss: 0.5336 - learning_rate: 5.0000e-04\n",
      "Epoch 21/30\n",
      "704/704 - 53s - 75ms/step - accuracy: 0.7909 - loss: 0.6010 - val_accuracy: 0.8184 - val_loss: 0.5312 - learning_rate: 5.0000e-04\n",
      "Epoch 22/30\n",
      "704/704 - 54s - 77ms/step - accuracy: 0.7922 - loss: 0.5944 - val_accuracy: 0.8288 - val_loss: 0.4979 - learning_rate: 5.0000e-04\n",
      "Epoch 23/30\n",
      "704/704 - 52s - 74ms/step - accuracy: 0.8002 - loss: 0.5848 - val_accuracy: 0.8054 - val_loss: 0.5543 - learning_rate: 5.0000e-04\n",
      "Epoch 24/30\n",
      "704/704 - 54s - 77ms/step - accuracy: 0.8013 - loss: 0.5759 - val_accuracy: 0.8046 - val_loss: 0.5724 - learning_rate: 5.0000e-04\n",
      "Epoch 25/30\n",
      "704/704 - 55s - 78ms/step - accuracy: 0.8028 - loss: 0.5715 - val_accuracy: 0.8306 - val_loss: 0.4920 - learning_rate: 5.0000e-04\n",
      "Epoch 26/30\n",
      "704/704 - 54s - 77ms/step - accuracy: 0.8027 - loss: 0.5710 - val_accuracy: 0.8086 - val_loss: 0.5494 - learning_rate: 5.0000e-04\n",
      "Epoch 27/30\n",
      "704/704 - 55s - 77ms/step - accuracy: 0.8071 - loss: 0.5635 - val_accuracy: 0.8220 - val_loss: 0.5219 - learning_rate: 5.0000e-04\n",
      "Epoch 28/30\n",
      "704/704 - 54s - 77ms/step - accuracy: 0.8064 - loss: 0.5542 - val_accuracy: 0.8302 - val_loss: 0.4936 - learning_rate: 5.0000e-04\n",
      "Epoch 29/30\n",
      "704/704 - 55s - 78ms/step - accuracy: 0.8156 - loss: 0.5292 - val_accuracy: 0.8402 - val_loss: 0.4627 - learning_rate: 2.5000e-04\n",
      "Epoch 30/30\n",
      "704/704 - 53s - 75ms/step - accuracy: 0.8175 - loss: 0.5284 - val_accuracy: 0.8376 - val_loss: 0.4743 - learning_rate: 2.5000e-04\n"
     ]
    }
   ],
   "source": [
    "# In this part, everything we prepared will be mixed together in order to train the model.\n",
    "history = model.fit(\n",
    "    train_ds, # This is the training dataset which we made, for each batch: It predicts (forward pass), calculates loss, calculates the gradians (backpropagation), updates weights using optimizer.\n",
    "    validation_data=val_ds, # We validate the model after each epoch with validation data.\n",
    "    epochs=EPOCHS, # Number of total epochs but may stop earlier due to callbacks.\n",
    "    callbacks=callbacks, # Callbacks will be checked after each epoch.\n",
    "    verbose=2 # The amount of data we want to see about each epoch, 0 is disabled, 1 is with progress bar, 2 is detailed version.\n",
    ")"
   ]
  },
  {
   "cell_type": "code",
   "execution_count": 26,
   "id": "4fe869b7-addf-4e65-b3cf-4ac188c4ec98",
   "metadata": {},
   "outputs": [
    {
     "name": "stdout",
     "output_type": "stream",
     "text": [
      "Loaded best weights.\n"
     ]
    }
   ],
   "source": [
    "# Here we make sure that the model uses best weights rather than the random weights of the last epoch.\n",
    "# The weights are the exact number which the model actually learns and the learning is stored in them.\n",
    "# The best weights are being saved via callbacks.\n",
    "if os.path.exists(BEST_WEIGHTS_PATH):\n",
    "    model.load_weights(BEST_WEIGHTS_PATH) # We load weights since we only stored them and we didn't save the model itself.\n",
    "    print(\"Loaded best weights.\")\n",
    "else:\n",
    "    print(\"Best weights file not found, therefore, using current model parameters.\")\n",
    "\n",
    "# Note that in EarlyStopping we defined restore_best_weights as True, therefre, the model loads the best weights automatically after the final epoch and this cell is to make sure everything is fine."
   ]
  },
  {
   "cell_type": "code",
   "execution_count": 27,
   "id": "c12773a1-a792-47ad-b0ed-b72e4ddcaeb0",
   "metadata": {},
   "outputs": [
    {
     "name": "stdout",
     "output_type": "stream",
     "text": [
      "Test accuracy: 0.8252 | Test loss: 0.5162\n",
      "Classification report:\n",
      "               precision    recall  f1-score   support\n",
      "\n",
      "           0     0.8132    0.8750    0.8430      1000\n",
      "           1     0.9164    0.9210    0.9187      1000\n",
      "           2     0.7765    0.7680    0.7722      1000\n",
      "           3     0.8121    0.5920    0.6848      1000\n",
      "           4     0.7960    0.7880    0.7920      1000\n",
      "           5     0.8428    0.6860    0.7563      1000\n",
      "           6     0.7177    0.9430    0.8150      1000\n",
      "           7     0.8538    0.8820    0.8677      1000\n",
      "           8     0.8914    0.8950    0.8932      1000\n",
      "           9     0.8623    0.9020    0.8817      1000\n",
      "\n",
      "    accuracy                         0.8252     10000\n",
      "   macro avg     0.8282    0.8252    0.8225     10000\n",
      "weighted avg     0.8282    0.8252    0.8225     10000\n",
      "\n",
      "[[875   9  34   4   8]\n",
      " [  8 921   0   0   2]\n",
      " [ 50   3 768   9  42]\n",
      " [ 23   4  59 592  54]\n",
      " [ 10   2  49  10 788]]\n"
     ]
    }
   ],
   "source": [
    "test_loss, test_acc = model.evaluate(test_ds, verbose=0) # The evaluate function sends the dataset batch by batch to the model just like fit but it doesn't update the weights and returns the ouput only.\n",
    "print(f\"Test accuracy: {test_acc:.4f} | Test loss: {test_loss:.4f}\")\n",
    "\n",
    "y_pred_probs = model.predict(test_ds, verbose=0) # This method the class of each test subject, since we have 10 classes, it returns 10 diffrent classes.\n",
    "y_pred = np.argmax(y_pred_probs, axis=1) # We only store the number of the class with highest probability, for example [3, 2, 5, ...]\n",
    "\n",
    "print(\"Classification report:\\n\", classification_report(y_test, y_pred, digits=4)) # Full detailed report using sklearn, we use y_test instead of test_ds since classification_report needs a simple array.\n",
    "cm = confusion_matrix(y_test, y_pred) # This is to see where the model is making mistakes.\n",
    "print(cm[:5, :5])"
   ]
  },
  {
   "cell_type": "code",
   "execution_count": null,
   "id": "f8464e71-71f3-4980-bc8c-d8b9dd23a065",
   "metadata": {},
   "outputs": [],
   "source": [
    "# Here we visualize the performance to check whether the model is well-trained or not.\n",
    "def plot_history(hist):\n",
    "    # History method stores full details regarding the trining phase during each epoch.\n",
    "    acc = hist.history[\"accuracy\"] # Accuracy of the training set.\n",
    "    val_acc = hist.history[\"val_accuracy\"] # Accuracy of the validation set.\n",
    "    loss = hist.history[\"loss\"] # Loss of the training set.\n",
    "    val_loss = hist.history[\"val_loss\"] # Loss of the validation set.\n",
    "\n",
    "    # This is matplotlib.\n",
    "    plt.figure()\n",
    "    plt.plot(acc, label=\"train_accuracy\")\n",
    "    plt.plot(val_acc, label=\"val_accuracy\")\n",
    "    plt.xlabel(\"Epoch\")\n",
    "    plt.ylabel(\"Accuracy\")\n",
    "    plt.legend()\n",
    "    plt.title(\"Accuracy over epochs\")\n",
    "    plt.show()\n",
    "\n",
    "    # This is matplotlib.\n",
    "    plt.figure()\n",
    "    plt.plot(loss, label=\"train_loss\")\n",
    "    plt.plot(val_loss, label=\"val_loss\")\n",
    "    plt.xlabel(\"Epoch\")\n",
    "    plt.ylabel(\"Loss\")\n",
    "    plt.legend()\n",
    "    plt.title(\"Loss over epochs\")\n",
    "    plt.show()\n",
    "\n",
    "plot_history(history) # This is the model we have trained, it's the name.\n",
    "\n",
    "# What we want is both lines going up together for accuracy and down for loss.\n",
    "# If the train accuracy goes up while validation accuracy goes down or remains the same, it means we have overfitting.\n",
    "# If the train loss goes down while validation accuracy goes up or remains the same, it means we have overfitting.\n",
    "# If the loss doesn't change, we need a new LR.\n",
    "# If both accuracies are low, we have underfit.\n",
    "# If we have too much noise in validation, the batch size might be small or validation data might not be enough."
   ]
  },
  {
   "cell_type": "code",
   "execution_count": 29,
   "id": "6fed4ce6-cb3a-4de6-89bb-efb6d386d0ee",
   "metadata": {},
   "outputs": [
    {
     "data": {
      "image/png": "[encoded data removed]",
      "text/plain": [
       "<Figure size 1000x1000 with 9 Axes>"
      ]
     },
     "metadata": {},
     "output_type": "display_data"
    }
   ],
   "source": [
    "# Here we see couple of test samples and the output of the model to see the prdiction.\n",
    "# Here we see by our own eyes where the model made a mistake rather than just seeing the numbers.\n",
    "class_names = [\"airplane\",\"automobile\",\"bird\",\"cat\",\"deer\",\"dog\",\"frog\",\"horse\",\"ship\",\"truck\"]\n",
    "\n",
    "def show_predictions(images, labels, preds, n=9):\n",
    "    idxs = np.random.choice(len(images), size=n, replace=False)\n",
    "    plt.figure(figsize=(10,10))\n",
    "    for i, idx in enumerate(idxs):\n",
    "        plt.subplot(3,3,i+1)\n",
    "        plt.imshow(images[idx])\n",
    "        true_c = class_names[labels[idx]] # The actual class of the picture.\n",
    "        pred_c = class_names[preds[idx]] # The predicted class of the picture.\n",
    "        plt.title(f\"T: {true_c} | P: {pred_c}\")\n",
    "        plt.axis(\"off\")\n",
    "    plt.tight_layout()\n",
    "    plt.show()\n",
    "\n",
    "show_predictions(x_test, y_test, y_pred, n=9)"
   ]
  },
  {
   "cell_type": "code",
   "execution_count": 31,
   "id": "08bb1b5d-0adb-48d3-904b-9b2175f315d4",
   "metadata": {},
   "outputs": [
    {
     "name": "stdout",
     "output_type": "stream",
     "text": [
      "Model saved to: saved_model/cnn_cifar10.keras\n"
     ]
    }
   ],
   "source": [
    "# We save the full model rather than only the weights.\n",
    "# This includes the weights, the NN architecture, optimizer and class compile settings.\n",
    "FULL_MODEL_PATH = os.path.join(MODEL_DIR, \"cnn_cifar10.keras\")\n",
    "model.save(FULL_MODEL_PATH)\n",
    "print(f\"Model saved to: {FULL_MODEL_PATH}\")"
   ]
  },
  {
   "cell_type": "code",
   "execution_count": 40,
   "id": "b801df75-91ac-4ee2-9c3d-f3fc5423bbc0",
   "metadata": {},
   "outputs": [
    {
     "name": "stdout",
     "output_type": "stream",
     "text": [
      "frog 0.8138527870178223\n"
     ]
    }
   ],
   "source": [
    "# Here we test the model on our own picture to see the results.\n",
    "from tensorflow.keras.utils import load_img, img_to_array\n",
    "# load_img: Reads the image and returns it as PIL image.\n",
    "# img_to_array: Converts the image to a Numpy array.\n",
    "\n",
    "def predict_image(img_path):\n",
    "    img = load_img(img_path, target_size=input_shape[:2]) # We resize the image to expected size of the model which is 32x32 here.\n",
    "    arr = img_to_array(img).astype(\"float32\") / 255.0 # We normalize the data and make sure they are float so they are not rounded.\n",
    "    arr = np.expand_dims(arr, axis=0) # We add a batch since the model is expecting a batch so we convert (32, 32, 3) to (1, 32, 32, 3) since we only have 1 image but keras still needs the batch number.\n",
    "    probs = model.predict(arr, verbose=0)[0] # This will return the class of the given image since the last layer had softmax activator.\n",
    "    pred_idx = int(np.argmax(probs)) # We get the class with highest chance.\n",
    "    return class_names[pred_idx], float(np.max(probs))\n",
    "\n",
    "label, conf = predict_image('img2.jpg') # The images are in the root folder of the project.\n",
    "print(label, conf)"
   ]
  },
  {
   "cell_type": "code",
   "execution_count": null,
   "id": "4a5d1e4a-7548-49ec-a846-b4c4de8df1b3",
   "metadata": {},
   "outputs": [],
   "source": []
  }
 ],
 "metadata": {
  "kernelspec": {
   "display_name": "Python [conda env:base] *",
   "language": "python",
   "name": "conda-base-py"
  },
  "language_info": {
   "codemirror_mode": {
    "name": "ipython",
    "version": 3
   },
   "file_extension": ".py",
   "mimetype": "text/x-python",
   "name": "python",
   "nbconvert_exporter": "python",
   "pygments_lexer": "ipython3",
   "version": "3.13.5"
  }
 },
 "nbformat": 4,
 "nbformat_minor": 5
}
